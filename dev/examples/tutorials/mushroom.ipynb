{
 "cells": [
  {
   "cell_type": "markdown",
   "source": [
    "## Overview"
   ],
   "metadata": {}
  },
  {
   "cell_type": "markdown",
   "source": [
    "This example shows how to do supervised training and testing with START on the UCI Mushroom dataset.\n",
    "The Mushroom dataset is a purely categorical dataset where each feature has entries that are members of different discrete categories.\n",
    "Where this is normally a challenge for other machine learning models due to encoding schemes and considerations, START learns directly on the symbols of the dataset itself.\n",
    "Furthermore, START can use a simple supervised mode to map clusters to supervised categories to allow for training and performance testing."
   ],
   "metadata": {}
  },
  {
   "cell_type": "markdown",
   "source": [
    "## Setup"
   ],
   "metadata": {}
  },
  {
   "cell_type": "markdown",
   "source": [
    "First, we load some dependencies:"
   ],
   "metadata": {}
  },
  {
   "outputs": [],
   "cell_type": "code",
   "source": [
    "# Just load this project\n",
    "using OAR"
   ],
   "metadata": {},
   "execution_count": 1
  },
  {
   "cell_type": "markdown",
   "source": [
    "## Loading the Dataset"
   ],
   "metadata": {}
  },
  {
   "cell_type": "markdown",
   "source": [
    "The OAR project has an all-in-one function for loading the dataset, parsing it into statements, and inferring the resulting grammar:"
   ],
   "metadata": {}
  },
  {
   "outputs": [
    {
     "output_type": "execute_result",
     "data": {
      "text/plain": "(OAR.DataSplitGeneric{SubArray{Vector{GSymbol{String}}, 1, Vector{Vector{GSymbol{String}}}, Tuple{Vector{Int64}}, false}, SubArray{Int64, 1, Vector{Int64}, Tuple{Vector{Int64}}, false}}(Vector{GSymbol{String}}[[GSymbol{String}(\"f\", true), GSymbol{String}(\"f\", true), GSymbol{String}(\"g\", true), GSymbol{String}(\"t\", true), GSymbol{String}(\"n\", true), GSymbol{String}(\"f\", true), GSymbol{String}(\"c\", true), GSymbol{String}(\"b\", true), GSymbol{String}(\"w\", true), GSymbol{String}(\"t\", true)  …  GSymbol{String}(\"s\", true), GSymbol{String}(\"p\", true), GSymbol{String}(\"g\", true), GSymbol{String}(\"p\", true), GSymbol{String}(\"w\", true), GSymbol{String}(\"o\", true), GSymbol{String}(\"p\", true), GSymbol{String}(\"k\", true), GSymbol{String}(\"y\", true), GSymbol{String}(\"d\", true)], [GSymbol{String}(\"x\", true), GSymbol{String}(\"y\", true), GSymbol{String}(\"y\", true), GSymbol{String}(\"f\", true), GSymbol{String}(\"f\", true), GSymbol{String}(\"f\", true), GSymbol{String}(\"c\", true), GSymbol{String}(\"b\", true), GSymbol{String}(\"h\", true), GSymbol{String}(\"e\", true)  …  GSymbol{String}(\"k\", true), GSymbol{String}(\"n\", true), GSymbol{String}(\"n\", true), GSymbol{String}(\"p\", true), GSymbol{String}(\"w\", true), GSymbol{String}(\"o\", true), GSymbol{String}(\"l\", true), GSymbol{String}(\"h\", true), GSymbol{String}(\"v\", true), GSymbol{String}(\"g\", true)], [GSymbol{String}(\"x\", true), GSymbol{String}(\"f\", true), GSymbol{String}(\"y\", true), GSymbol{String}(\"f\", true), GSymbol{String}(\"n\", true), GSymbol{String}(\"f\", true), GSymbol{String}(\"c\", true), GSymbol{String}(\"n\", true), GSymbol{String}(\"w\", true), GSymbol{String}(\"e\", true)  …  GSymbol{String}(\"y\", true), GSymbol{String}(\"w\", true), GSymbol{String}(\"y\", true), GSymbol{String}(\"p\", true), GSymbol{String}(\"w\", true), GSymbol{String}(\"o\", true), GSymbol{String}(\"e\", true), GSymbol{String}(\"w\", true), GSymbol{String}(\"v\", true), GSymbol{String}(\"d\", true)], [GSymbol{String}(\"f\", true), GSymbol{String}(\"y\", true), GSymbol{String}(\"n\", true), GSymbol{String}(\"f\", true), GSymbol{String}(\"y\", true), GSymbol{String}(\"f\", true), GSymbol{String}(\"c\", true), GSymbol{String}(\"n\", true), GSymbol{String}(\"b\", true), GSymbol{String}(\"t\", true)  …  GSymbol{String}(\"s\", true), GSymbol{String}(\"w\", true), GSymbol{String}(\"w\", true), GSymbol{String}(\"p\", true), GSymbol{String}(\"w\", true), GSymbol{String}(\"o\", true), GSymbol{String}(\"e\", true), GSymbol{String}(\"w\", true), GSymbol{String}(\"v\", true), GSymbol{String}(\"p\", true)], [GSymbol{String}(\"f\", true), GSymbol{String}(\"f\", true), GSymbol{String}(\"w\", true), GSymbol{String}(\"f\", true), GSymbol{String}(\"n\", true), GSymbol{String}(\"f\", true), GSymbol{String}(\"w\", true), GSymbol{String}(\"b\", true), GSymbol{String}(\"p\", true), GSymbol{String}(\"t\", true)  …  GSymbol{String}(\"f\", true), GSymbol{String}(\"w\", true), GSymbol{String}(\"w\", true), GSymbol{String}(\"p\", true), GSymbol{String}(\"w\", true), GSymbol{String}(\"o\", true), GSymbol{String}(\"e\", true), GSymbol{String}(\"k\", true), GSymbol{String}(\"a\", true), GSymbol{String}(\"g\", true)], [GSymbol{String}(\"x\", true), GSymbol{String}(\"s\", true), GSymbol{String}(\"n\", true), GSymbol{String}(\"f\", true), GSymbol{String}(\"s\", true), GSymbol{String}(\"f\", true), GSymbol{String}(\"c\", true), GSymbol{String}(\"n\", true), GSymbol{String}(\"b\", true), GSymbol{String}(\"t\", true)  …  GSymbol{String}(\"s\", true), GSymbol{String}(\"p\", true), GSymbol{String}(\"p\", true), GSymbol{String}(\"p\", true), GSymbol{String}(\"w\", true), GSymbol{String}(\"o\", true), GSymbol{String}(\"e\", true), GSymbol{String}(\"w\", true), GSymbol{String}(\"v\", true), GSymbol{String}(\"d\", true)], [GSymbol{String}(\"f\", true), GSymbol{String}(\"y\", true), GSymbol{String}(\"n\", true), GSymbol{String}(\"t\", true), GSymbol{String}(\"n\", true), GSymbol{String}(\"f\", true), GSymbol{String}(\"c\", true), GSymbol{String}(\"b\", true), GSymbol{String}(\"w\", true), GSymbol{String}(\"t\", true)  …  GSymbol{String}(\"s\", true), GSymbol{String}(\"p\", true), GSymbol{String}(\"w\", true), GSymbol{String}(\"p\", true), GSymbol{String}(\"w\", true), GSymbol{String}(\"o\", true), GSymbol{String}(\"p\", true), GSymbol{String}(\"n\", true), GSymbol{String}(\"y\", true), GSymbol{String}(\"d\", true)], [GSymbol{String}(\"f\", true), GSymbol{String}(\"f\", true), GSymbol{String}(\"y\", true), GSymbol{String}(\"f\", true), GSymbol{String}(\"f\", true), GSymbol{String}(\"f\", true), GSymbol{String}(\"c\", true), GSymbol{String}(\"b\", true), GSymbol{String}(\"g\", true), GSymbol{String}(\"e\", true)  …  GSymbol{String}(\"k\", true), GSymbol{String}(\"n\", true), GSymbol{String}(\"b\", true), GSymbol{String}(\"p\", true), GSymbol{String}(\"w\", true), GSymbol{String}(\"o\", true), GSymbol{String}(\"l\", true), GSymbol{String}(\"h\", true), GSymbol{String}(\"y\", true), GSymbol{String}(\"g\", true)], [GSymbol{String}(\"x\", true), GSymbol{String}(\"y\", true), GSymbol{String}(\"n\", true), GSymbol{String}(\"f\", true), GSymbol{String}(\"f\", true), GSymbol{String}(\"f\", true), GSymbol{String}(\"c\", true), GSymbol{String}(\"n\", true), GSymbol{String}(\"b\", true), GSymbol{String}(\"t\", true)  …  GSymbol{String}(\"s\", true), GSymbol{String}(\"p\", true), GSymbol{String}(\"w\", true), GSymbol{String}(\"p\", true), GSymbol{String}(\"w\", true), GSymbol{String}(\"o\", true), GSymbol{String}(\"e\", true), GSymbol{String}(\"w\", true), GSymbol{String}(\"v\", true), GSymbol{String}(\"l\", true)], [GSymbol{String}(\"f\", true), GSymbol{String}(\"s\", true), GSymbol{String}(\"n\", true), GSymbol{String}(\"f\", true), GSymbol{String}(\"s\", true), GSymbol{String}(\"f\", true), GSymbol{String}(\"c\", true), GSymbol{String}(\"n\", true), GSymbol{String}(\"b\", true), GSymbol{String}(\"t\", true)  …  GSymbol{String}(\"s\", true), GSymbol{String}(\"w\", true), GSymbol{String}(\"p\", true), GSymbol{String}(\"p\", true), GSymbol{String}(\"w\", true), GSymbol{String}(\"o\", true), GSymbol{String}(\"e\", true), GSymbol{String}(\"w\", true), GSymbol{String}(\"v\", true), GSymbol{String}(\"p\", true)]  …  [GSymbol{String}(\"x\", true), GSymbol{String}(\"f\", true), GSymbol{String}(\"g\", true), GSymbol{String}(\"t\", true), GSymbol{String}(\"n\", true), GSymbol{String}(\"f\", true), GSymbol{String}(\"c\", true), GSymbol{String}(\"b\", true), GSymbol{String}(\"p\", true), GSymbol{String}(\"t\", true)  …  GSymbol{String}(\"s\", true), GSymbol{String}(\"p\", true), GSymbol{String}(\"g\", true), GSymbol{String}(\"p\", true), GSymbol{String}(\"w\", true), GSymbol{String}(\"o\", true), GSymbol{String}(\"p\", true), GSymbol{String}(\"n\", true), GSymbol{String}(\"v\", true), GSymbol{String}(\"d\", true)], [GSymbol{String}(\"b\", true), GSymbol{String}(\"y\", true), GSymbol{String}(\"y\", true), GSymbol{String}(\"t\", true), GSymbol{String}(\"a\", true), GSymbol{String}(\"f\", true), GSymbol{String}(\"c\", true), GSymbol{String}(\"b\", true), GSymbol{String}(\"n\", true), GSymbol{String}(\"e\", true)  …  GSymbol{String}(\"s\", true), GSymbol{String}(\"w\", true), GSymbol{String}(\"w\", true), GSymbol{String}(\"p\", true), GSymbol{String}(\"w\", true), GSymbol{String}(\"o\", true), GSymbol{String}(\"p\", true), GSymbol{String}(\"n\", true), GSymbol{String}(\"n\", true), GSymbol{String}(\"g\", true)], [GSymbol{String}(\"x\", true), GSymbol{String}(\"s\", true), GSymbol{String}(\"n\", true), GSymbol{String}(\"f\", true), GSymbol{String}(\"n\", true), GSymbol{String}(\"f\", true), GSymbol{String}(\"w\", true), GSymbol{String}(\"b\", true), GSymbol{String}(\"p\", true), GSymbol{String}(\"t\", true)  …  GSymbol{String}(\"f\", true), GSymbol{String}(\"w\", true), GSymbol{String}(\"w\", true), GSymbol{String}(\"p\", true), GSymbol{String}(\"w\", true), GSymbol{String}(\"o\", true), GSymbol{String}(\"e\", true), GSymbol{String}(\"n\", true), GSymbol{String}(\"a\", true), GSymbol{String}(\"g\", true)], [GSymbol{String}(\"x\", true), GSymbol{String}(\"y\", true), GSymbol{String}(\"n\", true), GSymbol{String}(\"f\", true), GSymbol{String}(\"y\", true), GSymbol{String}(\"f\", true), GSymbol{String}(\"c\", true), GSymbol{String}(\"n\", true), GSymbol{String}(\"b\", true), GSymbol{String}(\"t\", true)  …  GSymbol{String}(\"s\", true), GSymbol{String}(\"p\", true), GSymbol{String}(\"p\", true), GSymbol{String}(\"p\", true), GSymbol{String}(\"w\", true), GSymbol{String}(\"o\", true), GSymbol{String}(\"e\", true), GSymbol{String}(\"w\", true), GSymbol{String}(\"v\", true), GSymbol{String}(\"p\", true)], [GSymbol{String}(\"x\", true), GSymbol{String}(\"f\", true), GSymbol{String}(\"g\", true), GSymbol{String}(\"f\", true), GSymbol{String}(\"f\", true), GSymbol{String}(\"f\", true), GSymbol{String}(\"c\", true), GSymbol{String}(\"b\", true), GSymbol{String}(\"h\", true), GSymbol{String}(\"e\", true)  …  GSymbol{String}(\"k\", true), GSymbol{String}(\"p\", true), GSymbol{String}(\"p\", true), GSymbol{String}(\"p\", true), GSymbol{String}(\"w\", true), GSymbol{String}(\"o\", true), GSymbol{String}(\"l\", true), GSymbol{String}(\"h\", true), GSymbol{String}(\"v\", true), GSymbol{String}(\"g\", true)], [GSymbol{String}(\"f\", true), GSymbol{String}(\"s\", true), GSymbol{String}(\"n\", true), GSymbol{String}(\"f\", true), GSymbol{String}(\"y\", true), GSymbol{String}(\"f\", true), GSymbol{String}(\"c\", true), GSymbol{String}(\"n\", true), GSymbol{String}(\"b\", true), GSymbol{String}(\"t\", true)  …  GSymbol{String}(\"s\", true), GSymbol{String}(\"p\", true), GSymbol{String}(\"p\", true), GSymbol{String}(\"p\", true), GSymbol{String}(\"w\", true), GSymbol{String}(\"o\", true), GSymbol{String}(\"e\", true), GSymbol{String}(\"w\", true), GSymbol{String}(\"v\", true), GSymbol{String}(\"l\", true)], [GSymbol{String}(\"x\", true), GSymbol{String}(\"s\", true), GSymbol{String}(\"n\", true), GSymbol{String}(\"f\", true), GSymbol{String}(\"n\", true), GSymbol{String}(\"a\", true), GSymbol{String}(\"c\", true), GSymbol{String}(\"b\", true), GSymbol{String}(\"n\", true), GSymbol{String}(\"e\", true)  …  GSymbol{String}(\"s\", true), GSymbol{String}(\"o\", true), GSymbol{String}(\"o\", true), GSymbol{String}(\"p\", true), GSymbol{String}(\"n\", true), GSymbol{String}(\"o\", true), GSymbol{String}(\"p\", true), GSymbol{String}(\"o\", true), GSymbol{String}(\"c\", true), GSymbol{String}(\"l\", true)], [GSymbol{String}(\"x\", true), GSymbol{String}(\"y\", true), GSymbol{String}(\"n\", true), GSymbol{String}(\"t\", true), GSymbol{String}(\"n\", true), GSymbol{String}(\"f\", true), GSymbol{String}(\"c\", true), GSymbol{String}(\"b\", true), GSymbol{String}(\"n\", true), GSymbol{String}(\"t\", true)  …  GSymbol{String}(\"s\", true), GSymbol{String}(\"p\", true), GSymbol{String}(\"w\", true), GSymbol{String}(\"p\", true), GSymbol{String}(\"w\", true), GSymbol{String}(\"o\", true), GSymbol{String}(\"p\", true), GSymbol{String}(\"n\", true), GSymbol{String}(\"v\", true), GSymbol{String}(\"d\", true)], [GSymbol{String}(\"x\", true), GSymbol{String}(\"y\", true), GSymbol{String}(\"e\", true), GSymbol{String}(\"t\", true), GSymbol{String}(\"n\", true), GSymbol{String}(\"f\", true), GSymbol{String}(\"c\", true), GSymbol{String}(\"b\", true), GSymbol{String}(\"n\", true), GSymbol{String}(\"t\", true)  …  GSymbol{String}(\"s\", true), GSymbol{String}(\"g\", true), GSymbol{String}(\"g\", true), GSymbol{String}(\"p\", true), GSymbol{String}(\"w\", true), GSymbol{String}(\"o\", true), GSymbol{String}(\"p\", true), GSymbol{String}(\"k\", true), GSymbol{String}(\"y\", true), GSymbol{String}(\"d\", true)], [GSymbol{String}(\"f\", true), GSymbol{String}(\"y\", true), GSymbol{String}(\"n\", true), GSymbol{String}(\"f\", true), GSymbol{String}(\"y\", true), GSymbol{String}(\"f\", true), GSymbol{String}(\"c\", true), GSymbol{String}(\"n\", true), GSymbol{String}(\"b\", true), GSymbol{String}(\"t\", true)  …  GSymbol{String}(\"k\", true), GSymbol{String}(\"w\", true), GSymbol{String}(\"w\", true), GSymbol{String}(\"p\", true), GSymbol{String}(\"w\", true), GSymbol{String}(\"o\", true), GSymbol{String}(\"e\", true), GSymbol{String}(\"w\", true), GSymbol{String}(\"v\", true), GSymbol{String}(\"p\", true)]], Vector{GSymbol{String}}[[GSymbol{String}(\"f\", true), GSymbol{String}(\"s\", true), GSymbol{String}(\"n\", true), GSymbol{String}(\"f\", true), GSymbol{String}(\"n\", true), GSymbol{String}(\"a\", true), GSymbol{String}(\"c\", true), GSymbol{String}(\"b\", true), GSymbol{String}(\"y\", true), GSymbol{String}(\"e\", true)  …  GSymbol{String}(\"s\", true), GSymbol{String}(\"o\", true), GSymbol{String}(\"o\", true), GSymbol{String}(\"p\", true), GSymbol{String}(\"n\", true), GSymbol{String}(\"o\", true), GSymbol{String}(\"p\", true), GSymbol{String}(\"b\", true), GSymbol{String}(\"c\", true), GSymbol{String}(\"l\", true)], [GSymbol{String}(\"x\", true), GSymbol{String}(\"s\", true), GSymbol{String}(\"w\", true), GSymbol{String}(\"f\", true), GSymbol{String}(\"n\", true), GSymbol{String}(\"f\", true), GSymbol{String}(\"w\", true), GSymbol{String}(\"b\", true), GSymbol{String}(\"n\", true), GSymbol{String}(\"t\", true)  …  GSymbol{String}(\"s\", true), GSymbol{String}(\"w\", true), GSymbol{String}(\"w\", true), GSymbol{String}(\"p\", true), GSymbol{String}(\"w\", true), GSymbol{String}(\"o\", true), GSymbol{String}(\"e\", true), GSymbol{String}(\"n\", true), GSymbol{String}(\"a\", true), GSymbol{String}(\"g\", true)], [GSymbol{String}(\"f\", true), GSymbol{String}(\"y\", true), GSymbol{String}(\"n\", true), GSymbol{String}(\"f\", true), GSymbol{String}(\"f\", true), GSymbol{String}(\"f\", true), GSymbol{String}(\"c\", true), GSymbol{String}(\"n\", true), GSymbol{String}(\"b\", true), GSymbol{String}(\"t\", true)  …  GSymbol{String}(\"k\", true), GSymbol{String}(\"p\", true), GSymbol{String}(\"p\", true), GSymbol{String}(\"p\", true), GSymbol{String}(\"w\", true), GSymbol{String}(\"o\", true), GSymbol{String}(\"e\", true), GSymbol{String}(\"w\", true), GSymbol{String}(\"v\", true), GSymbol{String}(\"p\", true)], [GSymbol{String}(\"f\", true), GSymbol{String}(\"s\", true), GSymbol{String}(\"n\", true), GSymbol{String}(\"f\", true), GSymbol{String}(\"n\", true), GSymbol{String}(\"f\", true), GSymbol{String}(\"w\", true), GSymbol{String}(\"b\", true), GSymbol{String}(\"p\", true), GSymbol{String}(\"t\", true)  …  GSymbol{String}(\"f\", true), GSymbol{String}(\"w\", true), GSymbol{String}(\"w\", true), GSymbol{String}(\"p\", true), GSymbol{String}(\"w\", true), GSymbol{String}(\"o\", true), GSymbol{String}(\"e\", true), GSymbol{String}(\"n\", true), GSymbol{String}(\"s\", true), GSymbol{String}(\"g\", true)], [GSymbol{String}(\"f\", true), GSymbol{String}(\"y\", true), GSymbol{String}(\"w\", true), GSymbol{String}(\"t\", true), GSymbol{String}(\"p\", true), GSymbol{String}(\"f\", true), GSymbol{String}(\"c\", true), GSymbol{String}(\"n\", true), GSymbol{String}(\"n\", true), GSymbol{String}(\"e\", true)  …  GSymbol{String}(\"s\", true), GSymbol{String}(\"w\", true), GSymbol{String}(\"w\", true), GSymbol{String}(\"p\", true), GSymbol{String}(\"w\", true), GSymbol{String}(\"o\", true), GSymbol{String}(\"p\", true), GSymbol{String}(\"k\", true), GSymbol{String}(\"v\", true), GSymbol{String}(\"u\", true)], [GSymbol{String}(\"b\", true), GSymbol{String}(\"y\", true), GSymbol{String}(\"w\", true), GSymbol{String}(\"t\", true), GSymbol{String}(\"a\", true), GSymbol{String}(\"f\", true), GSymbol{String}(\"c\", true), GSymbol{String}(\"b\", true), GSymbol{String}(\"w\", true), GSymbol{String}(\"e\", true)  …  GSymbol{String}(\"s\", true), GSymbol{String}(\"w\", true), GSymbol{String}(\"w\", true), GSymbol{String}(\"p\", true), GSymbol{String}(\"w\", true), GSymbol{String}(\"o\", true), GSymbol{String}(\"p\", true), GSymbol{String}(\"k\", true), GSymbol{String}(\"n\", true), GSymbol{String}(\"g\", true)], [GSymbol{String}(\"x\", true), GSymbol{String}(\"y\", true), GSymbol{String}(\"y\", true), GSymbol{String}(\"f\", true), GSymbol{String}(\"f\", true), GSymbol{String}(\"f\", true), GSymbol{String}(\"c\", true), GSymbol{String}(\"b\", true), GSymbol{String}(\"g\", true), GSymbol{String}(\"e\", true)  …  GSymbol{String}(\"k\", true), GSymbol{String}(\"p\", true), GSymbol{String}(\"b\", true), GSymbol{String}(\"p\", true), GSymbol{String}(\"w\", true), GSymbol{String}(\"o\", true), GSymbol{String}(\"l\", true), GSymbol{String}(\"h\", true), GSymbol{String}(\"y\", true), GSymbol{String}(\"p\", true)], [GSymbol{String}(\"x\", true), GSymbol{String}(\"s\", true), GSymbol{String}(\"e\", true), GSymbol{String}(\"f\", true), GSymbol{String}(\"s\", true), GSymbol{String}(\"f\", true), GSymbol{String}(\"c\", true), GSymbol{String}(\"n\", true), GSymbol{String}(\"b\", true), GSymbol{String}(\"t\", true)  …  GSymbol{String}(\"k\", true), GSymbol{String}(\"p\", true), GSymbol{String}(\"w\", true), GSymbol{String}(\"p\", true), GSymbol{String}(\"w\", true), GSymbol{String}(\"o\", true), GSymbol{String}(\"e\", true), GSymbol{String}(\"w\", true), GSymbol{String}(\"v\", true), GSymbol{String}(\"p\", true)], [GSymbol{String}(\"x\", true), GSymbol{String}(\"s\", true), GSymbol{String}(\"n\", true), GSymbol{String}(\"f\", true), GSymbol{String}(\"y\", true), GSymbol{String}(\"f\", true), GSymbol{String}(\"c\", true), GSymbol{String}(\"n\", true), GSymbol{String}(\"b\", true), GSymbol{String}(\"t\", true)  …  GSymbol{String}(\"s\", true), GSymbol{String}(\"w\", true), GSymbol{String}(\"p\", true), GSymbol{String}(\"p\", true), GSymbol{String}(\"w\", true), GSymbol{String}(\"o\", true), GSymbol{String}(\"e\", true), GSymbol{String}(\"w\", true), GSymbol{String}(\"v\", true), GSymbol{String}(\"p\", true)], [GSymbol{String}(\"x\", true), GSymbol{String}(\"y\", true), GSymbol{String}(\"n\", true), GSymbol{String}(\"t\", true), GSymbol{String}(\"n\", true), GSymbol{String}(\"f\", true), GSymbol{String}(\"c\", true), GSymbol{String}(\"b\", true), GSymbol{String}(\"u\", true), GSymbol{String}(\"t\", true)  …  GSymbol{String}(\"s\", true), GSymbol{String}(\"w\", true), GSymbol{String}(\"w\", true), GSymbol{String}(\"p\", true), GSymbol{String}(\"w\", true), GSymbol{String}(\"o\", true), GSymbol{String}(\"p\", true), GSymbol{String}(\"n\", true), GSymbol{String}(\"y\", true), GSymbol{String}(\"d\", true)]  …  [GSymbol{String}(\"x\", true), GSymbol{String}(\"f\", true), GSymbol{String}(\"n\", true), GSymbol{String}(\"t\", true), GSymbol{String}(\"n\", true), GSymbol{String}(\"f\", true), GSymbol{String}(\"c\", true), GSymbol{String}(\"b\", true), GSymbol{String}(\"w\", true), GSymbol{String}(\"t\", true)  …  GSymbol{String}(\"s\", true), GSymbol{String}(\"p\", true), GSymbol{String}(\"w\", true), GSymbol{String}(\"p\", true), GSymbol{String}(\"w\", true), GSymbol{String}(\"o\", true), GSymbol{String}(\"p\", true), GSymbol{String}(\"n\", true), GSymbol{String}(\"y\", true), GSymbol{String}(\"d\", true)], [GSymbol{String}(\"x\", true), GSymbol{String}(\"y\", true), GSymbol{String}(\"n\", true), GSymbol{String}(\"t\", true), GSymbol{String}(\"n\", true), GSymbol{String}(\"f\", true), GSymbol{String}(\"c\", true), GSymbol{String}(\"b\", true), GSymbol{String}(\"p\", true), GSymbol{String}(\"t\", true)  …  GSymbol{String}(\"s\", true), GSymbol{String}(\"p\", true), GSymbol{String}(\"g\", true), GSymbol{String}(\"p\", true), GSymbol{String}(\"w\", true), GSymbol{String}(\"o\", true), GSymbol{String}(\"p\", true), GSymbol{String}(\"k\", true), GSymbol{String}(\"y\", true), GSymbol{String}(\"d\", true)], [GSymbol{String}(\"f\", true), GSymbol{String}(\"y\", true), GSymbol{String}(\"g\", true), GSymbol{String}(\"f\", true), GSymbol{String}(\"f\", true), GSymbol{String}(\"f\", true), GSymbol{String}(\"c\", true), GSymbol{String}(\"b\", true), GSymbol{String}(\"h\", true), GSymbol{String}(\"e\", true)  …  GSymbol{String}(\"k\", true), GSymbol{String}(\"b\", true), GSymbol{String}(\"b\", true), GSymbol{String}(\"p\", true), GSymbol{String}(\"w\", true), GSymbol{String}(\"o\", true), GSymbol{String}(\"l\", true), GSymbol{String}(\"h\", true), GSymbol{String}(\"y\", true), GSymbol{String}(\"p\", true)], [GSymbol{String}(\"k\", true), GSymbol{String}(\"s\", true), GSymbol{String}(\"g\", true), GSymbol{String}(\"f\", true), GSymbol{String}(\"n\", true), GSymbol{String}(\"f\", true), GSymbol{String}(\"w\", true), GSymbol{String}(\"b\", true), GSymbol{String}(\"w\", true), GSymbol{String}(\"e\", true)  …  GSymbol{String}(\"k\", true), GSymbol{String}(\"w\", true), GSymbol{String}(\"w\", true), GSymbol{String}(\"p\", true), GSymbol{String}(\"w\", true), GSymbol{String}(\"t\", true), GSymbol{String}(\"p\", true), GSymbol{String}(\"w\", true), GSymbol{String}(\"n\", true), GSymbol{String}(\"g\", true)], [GSymbol{String}(\"f\", true), GSymbol{String}(\"s\", true), GSymbol{String}(\"n\", true), GSymbol{String}(\"f\", true), GSymbol{String}(\"f\", true), GSymbol{String}(\"f\", true), GSymbol{String}(\"c\", true), GSymbol{String}(\"n\", true), GSymbol{String}(\"b\", true), GSymbol{String}(\"t\", true)  …  GSymbol{String}(\"s\", true), GSymbol{String}(\"w\", true), GSymbol{String}(\"p\", true), GSymbol{String}(\"p\", true), GSymbol{String}(\"w\", true), GSymbol{String}(\"o\", true), GSymbol{String}(\"e\", true), GSymbol{String}(\"w\", true), GSymbol{String}(\"v\", true), GSymbol{String}(\"l\", true)], [GSymbol{String}(\"x\", true), GSymbol{String}(\"f\", true), GSymbol{String}(\"e\", true), GSymbol{String}(\"t\", true), GSymbol{String}(\"n\", true), GSymbol{String}(\"f\", true), GSymbol{String}(\"c\", true), GSymbol{String}(\"b\", true), GSymbol{String}(\"p\", true), GSymbol{String}(\"t\", true)  …  GSymbol{String}(\"s\", true), GSymbol{String}(\"p\", true), GSymbol{String}(\"g\", true), GSymbol{String}(\"p\", true), GSymbol{String}(\"w\", true), GSymbol{String}(\"o\", true), GSymbol{String}(\"p\", true), GSymbol{String}(\"k\", true), GSymbol{String}(\"y\", true), GSymbol{String}(\"d\", true)], [GSymbol{String}(\"x\", true), GSymbol{String}(\"f\", true), GSymbol{String}(\"g\", true), GSymbol{String}(\"t\", true), GSymbol{String}(\"n\", true), GSymbol{String}(\"f\", true), GSymbol{String}(\"c\", true), GSymbol{String}(\"b\", true), GSymbol{String}(\"w\", true), GSymbol{String}(\"t\", true)  …  GSymbol{String}(\"s\", true), GSymbol{String}(\"w\", true), GSymbol{String}(\"w\", true), GSymbol{String}(\"p\", true), GSymbol{String}(\"w\", true), GSymbol{String}(\"o\", true), GSymbol{String}(\"p\", true), GSymbol{String}(\"k\", true), GSymbol{String}(\"v\", true), GSymbol{String}(\"d\", true)], [GSymbol{String}(\"f\", true), GSymbol{String}(\"f\", true), GSymbol{String}(\"g\", true), GSymbol{String}(\"f\", true), GSymbol{String}(\"f\", true), GSymbol{String}(\"f\", true), GSymbol{String}(\"c\", true), GSymbol{String}(\"b\", true), GSymbol{String}(\"p\", true), GSymbol{String}(\"e\", true)  …  GSymbol{String}(\"k\", true), GSymbol{String}(\"n\", true), GSymbol{String}(\"n\", true), GSymbol{String}(\"p\", true), GSymbol{String}(\"w\", true), GSymbol{String}(\"o\", true), GSymbol{String}(\"l\", true), GSymbol{String}(\"h\", true), GSymbol{String}(\"v\", true), GSymbol{String}(\"g\", true)], [GSymbol{String}(\"x\", true), GSymbol{String}(\"s\", true), GSymbol{String}(\"n\", true), GSymbol{String}(\"f\", true), GSymbol{String}(\"f\", true), GSymbol{String}(\"f\", true), GSymbol{String}(\"c\", true), GSymbol{String}(\"n\", true), GSymbol{String}(\"b\", true), GSymbol{String}(\"t\", true)  …  GSymbol{String}(\"s\", true), GSymbol{String}(\"p\", true), GSymbol{String}(\"w\", true), GSymbol{String}(\"p\", true), GSymbol{String}(\"w\", true), GSymbol{String}(\"o\", true), GSymbol{String}(\"e\", true), GSymbol{String}(\"w\", true), GSymbol{String}(\"v\", true), GSymbol{String}(\"p\", true)], [GSymbol{String}(\"b\", true), GSymbol{String}(\"s\", true), GSymbol{String}(\"w\", true), GSymbol{String}(\"f\", true), GSymbol{String}(\"n\", true), GSymbol{String}(\"f\", true), GSymbol{String}(\"w\", true), GSymbol{String}(\"b\", true), GSymbol{String}(\"g\", true), GSymbol{String}(\"e\", true)  …  GSymbol{String}(\"s\", true), GSymbol{String}(\"w\", true), GSymbol{String}(\"w\", true), GSymbol{String}(\"p\", true), GSymbol{String}(\"w\", true), GSymbol{String}(\"t\", true), GSymbol{String}(\"p\", true), GSymbol{String}(\"w\", true), GSymbol{String}(\"s\", true), GSymbol{String}(\"g\", true)]], [2, 1, 1, 1, 2, 1, 2, 1, 1, 1  …  2, 2, 2, 1, 1, 1, 2, 2, 2, 1], [2, 2, 1, 2, 1, 2, 1, 1, 1, 2  …  2, 2, 1, 2, 1, 2, 2, 1, 1, 2]), OAR.CFG{String}(N:22, S:22, P:22, T:23))"
     },
     "metadata": {},
     "execution_count": 2
    }
   ],
   "cell_type": "code",
   "source": [
    "# Point to the relative file location\n",
    "filename = joinpath(\"..\", \"assets\", \"mushrooms.csv\")\n",
    "# All-in-one function\n",
    "fs, bnf = OAR.symbolic_mushroom(filename)"
   ],
   "metadata": {},
   "execution_count": 2
  },
  {
   "cell_type": "markdown",
   "source": [
    "## Intializing START"
   ],
   "metadata": {}
  },
  {
   "cell_type": "markdown",
   "source": [
    "We use the grammar and keyword arguments to set the options of the module during initialization:"
   ],
   "metadata": {}
  },
  {
   "outputs": [
    {
     "output_type": "execute_result",
     "data": {
      "text/plain": "GramART(ProtoNode[], OAR.CFG{String}(N:22, S:22, P:22, T:23), OAR.opts_GramART\n  rho: Float64 0.6\n  rho_lb: Float64 0.55\n  rho_ub: Float64 0.75\n  alpha: Float64 0.001\n  beta: Float64 1.0\n  max_epoch: Int64 1\n  terminated: Bool false\n, Int64[], Dict{String, Any}(\"n_categories\" => 0, \"n_clusters\" => 0, \"n_instance\" => Int64[]))"
     },
     "metadata": {},
     "execution_count": 3
    }
   ],
   "cell_type": "code",
   "source": [
    "# Initialize the module with options\n",
    "art = OAR.GramART(bnf,\n",
    "    rho = 0.6,\n",
    ")"
   ],
   "metadata": {},
   "execution_count": 3
  },
  {
   "cell_type": "markdown",
   "source": [
    "We could also set or change the options after initialization with `art.opts.rho = 0.7`."
   ],
   "metadata": {}
  },
  {
   "cell_type": "markdown",
   "source": [
    "## Training and Testing"
   ],
   "metadata": {}
  },
  {
   "cell_type": "markdown",
   "source": [
    "To train the model we will use the training statements portion of the dataset that we loaded earlier along with their corresponding supervisory labels:"
   ],
   "metadata": {}
  },
  {
   "outputs": [],
   "cell_type": "code",
   "source": [
    "# Iterate over the training data\n",
    "for ix in eachindex(fs.train_x)\n",
    "    statement = fs.train_x[ix]\n",
    "    label = fs.train_y[ix]\n",
    "    OAR.train!(\n",
    "        art,\n",
    "        statement,\n",
    "        y=label,\n",
    "    )\n",
    "end"
   ],
   "metadata": {},
   "execution_count": 4
  },
  {
   "cell_type": "markdown",
   "source": [
    "To test the model, we use the testing data and extract the prescribed label for each sample by the model:"
   ],
   "metadata": {}
  },
  {
   "outputs": [],
   "cell_type": "code",
   "source": [
    "# Create a container for the output labels\n",
    "clusters = zeros(Int, length(fs.test_y))\n",
    "# Iterate over the testing data\n",
    "for ix in eachindex(fs.test_x)\n",
    "    clusters[ix] = OAR.classify(\n",
    "        art,\n",
    "        fs.test_x[ix],\n",
    "        get_bmu=true,\n",
    "    )\n",
    "end"
   ],
   "metadata": {},
   "execution_count": 5
  },
  {
   "cell_type": "markdown",
   "source": [
    "We can finally test the performance of the module by seeing the percentage of testing samples that are incorrectly labeled:"
   ],
   "metadata": {}
  },
  {
   "outputs": [
    {
     "name": "stdout",
     "output_type": "stream",
     "text": [
      "[ Info: Final performance: 0.9015182601559294\n",
      "[ Info: n_categories: 564\n"
     ]
    }
   ],
   "cell_type": "code",
   "source": [
    "# Calculate testing performance\n",
    "perf = OAR.AdaptiveResonance.performance(fs.test_y, clusters)\n",
    "\n",
    "# Logging\n",
    "@info \"Final performance: $(perf)\"\n",
    "@info \"n_categories: $(art.stats[\"n_categories\"])\""
   ],
   "metadata": {},
   "execution_count": 6
  },
  {
   "cell_type": "markdown",
   "source": [
    "---\n",
    "\n",
    "*This notebook was generated using [Literate.jl](https://github.com/fredrikekre/Literate.jl).*"
   ],
   "metadata": {}
  }
 ],
 "nbformat_minor": 3,
 "metadata": {
  "language_info": {
   "file_extension": ".jl",
   "mimetype": "application/julia",
   "name": "julia",
   "version": "1.9.3"
  },
  "kernelspec": {
   "name": "julia-1.9",
   "display_name": "Julia 1.9.3",
   "language": "julia"
  }
 },
 "nbformat": 4
}
