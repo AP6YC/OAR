{
 "cells": [
  {
   "cell_type": "markdown",
   "source": [
    "## Overview"
   ],
   "metadata": {}
  },
  {
   "cell_type": "markdown",
   "source": [
    "This example shows how the the `Lerche.jl` parsing library works, which provides the necessary machinery to define `lark`-like grammars and parse statements into arbitrary Julia structures to interface with the GramART tools in this project.\n",
    "These tools are demonstrated on the how to parse approximate symbolic statements of the real-valued Iris dataset back into a tree that can be used in GramART."
   ],
   "metadata": {}
  },
  {
   "cell_type": "markdown",
   "source": [
    "## Setup"
   ],
   "metadata": {}
  },
  {
   "cell_type": "markdown",
   "source": [
    "First, we load some dependencies:"
   ],
   "metadata": {}
  },
  {
   "outputs": [],
   "cell_type": "code",
   "source": [
    "using OAR       # The OAR project module\n",
    "using Lerche    # Parsing library"
   ],
   "metadata": {},
   "execution_count": 1
  },
  {
   "cell_type": "markdown",
   "source": [
    "Next, we declare the rules of the symbolic Iris grammar using the syntax and format provided by the `Leche` library and the `lark` Python library that it is inspired by."
   ],
   "metadata": {}
  },
  {
   "outputs": [
    {
     "output_type": "execute_result",
     "data": {
      "text/plain": "\"    ?start: statement\\n\\n    statement: sl sw pl pw\\n\\n    sl : SL -> iris_symb\\n    sw : SW -> iris_symb\\n    pl : PL -> iris_symb\\n    pw : PW -> iris_symb\\n\\n    SL : /SL[1-9]?[0-9]?/\\n    SW : /SW[1-9]?[0-9]?/\\n    PL : /PL[1-9]?[0-9]?/\\n    PW : /PW[1-9]?[0-9]?/\\n\\n    %import common.WS\\n    %ignore WS\\n\""
     },
     "metadata": {},
     "execution_count": 2
    }
   ],
   "cell_type": "code",
   "source": [
    "# Statements in this grammar are simply four nonterminal positions with four bins of terminals.\n",
    "iris_grammar = raw\"\"\"\n",
    "    ?start: statement\n",
    "\n",
    "    statement: sl sw pl pw\n",
    "\n",
    "    sl : SL -> iris_symb\n",
    "    sw : SW -> iris_symb\n",
    "    pl : PL -> iris_symb\n",
    "    pw : PW -> iris_symb\n",
    "\n",
    "    SL : /SL[1-9]?[0-9]?/\n",
    "    SW : /SW[1-9]?[0-9]?/\n",
    "    PL : /PL[1-9]?[0-9]?/\n",
    "    PW : /PW[1-9]?[0-9]?/\n",
    "\n",
    "    %import common.WS\n",
    "    %ignore WS\n",
    "\"\"\""
   ],
   "metadata": {},
   "execution_count": 2
  },
  {
   "cell_type": "markdown",
   "source": [
    "Next, we set up the parsing transformer and its rules for transforming the symbols that the parser encounters into Julia datatypes."
   ],
   "metadata": {}
  },
  {
   "outputs": [],
   "cell_type": "code",
   "source": [
    "# The grammar tree subtypes from a Lerche Transformer\n",
    "struct GramARTTree <: Transformer end\n",
    "\n",
    "# The rules turn the terminals into `OAR` grammar symbols and statements into vectors\n",
    "@rule iris_symb(t::GramARTTree, p) = OAR.GSymbol{String}(p[1], true)\n",
    "@rule statement(t::GramARTTree, p) = Vector(p)"
   ],
   "metadata": {},
   "execution_count": 3
  },
  {
   "cell_type": "markdown",
   "source": [
    "Finally, we create the parser from these rules:"
   ],
   "metadata": {}
  },
  {
   "outputs": [
    {
     "output_type": "execute_result",
     "data": {
      "text/plain": "Lerche.Lark(Lerche.LarkOptions(Dict{Any, Any}(\"import_paths\" => Any[], \"parser\" => \"lalr\", \"lexer_callbacks\" => Dict{Any, Any}(), \"edit_terminals\" => nothing, \"postlex\" => nothing, \"ambiguity\" => \"auto\", \"priority\" => \"auto\", \"debug\" => false, \"start\" => [\"start\"], \"g_regex_flags\" => 0…)), \"<string>\", Lerche.Grammar(Tuple{String, Vector{Any}, Lerche.Tree, Lerche.RuleOptions}[(\"start\", [], Tree(expansions, Any[Tree(expansion, Any[Tree(value, Any[Token(RULE, statement)])\n])\n])\n, RuleOptions(false,true, nothing, start)), (\"statement\", [], Tree(expansions, Any[Tree(expansion, Any[Tree(value, Any[Token(RULE, sl)])\n, Tree(value, Any[Token(RULE, sw)])\n, Tree(value, Any[Token(RULE, pl)])\n, Tree(value, Any[Token(RULE, pw)])\n])\n])\n, RuleOptions(false,false, nothing, statement)), (\"sl\", [], Tree(expansions, Any[Tree(alias, Any[Tree(expansion, Any[Tree(value, Any[Token(TERMINAL, SL)])\n])\n, Token(RULE, iris_symb)])\n])\n, RuleOptions(false,false, nothing, sl)), (\"sw\", [], Tree(expansions, Any[Tree(alias, Any[Tree(expansion, Any[Tree(value, Any[Token(TERMINAL, SW)])\n])\n, Token(RULE, iris_symb)])\n])\n, RuleOptions(false,false, nothing, sw)), (\"pl\", [], Tree(expansions, Any[Tree(alias, Any[Tree(expansion, Any[Tree(value, Any[Token(TERMINAL, PL)])\n])\n, Token(RULE, iris_symb)])\n])\n, RuleOptions(false,false, nothing, pl)), (\"pw\", [], Tree(expansions, Any[Tree(alias, Any[Tree(expansion, Any[Tree(value, Any[Token(TERMINAL, PW)])\n])\n, Token(RULE, iris_symb)])\n])\n, RuleOptions(false,false, nothing, pw))], Tuple{String, Tuple{Lerche.Tree, Int64}}[(\"SL\", (Tree(expansions, Any[Tree(expansion, Any[Tree(value, Any[Tree(literal, Any[Token(REGEXP, /SL[1-9]?[0-9]?/)])\n])\n])\n])\n, 1)), (\"SW\", (Tree(expansions, Any[Tree(expansion, Any[Tree(value, Any[Tree(literal, Any[Token(REGEXP, /SW[1-9]?[0-9]?/)])\n])\n])\n])\n, 1)), (\"PL\", (Tree(expansions, Any[Tree(expansion, Any[Tree(value, Any[Tree(literal, Any[Token(REGEXP, /PL[1-9]?[0-9]?/)])\n])\n])\n])\n, 1)), (\"PW\", (Tree(expansions, Any[Tree(expansion, Any[Tree(value, Any[Tree(literal, Any[Token(REGEXP, /PW[1-9]?[0-9]?/)])\n])\n])\n])\n, 1)), (\"WS\", (Tree(expansions, Any[Tree(expansion, Any[Tree(expr, Any[Tree(value, Any[Tree(literal, Any[Token(REGEXP, /[ \\t\\f\\r\\n]/)])\n])\n, Token(OP, +)])\n])\n])\n, 1))], [\"WS\"]), Lerche.TerminalDef[Lerche.TerminalDef(\"SL\", Lerche.PatternRE(\"SL[1-9]?[0-9]?\", Set{Char}(), (2, 2)), 1), Lerche.TerminalDef(\"SW\", Lerche.PatternRE(\"SW[1-9]?[0-9]?\", Set{Char}(), (2, 2)), 1), Lerche.TerminalDef(\"PL\", Lerche.PatternRE(\"PL[1-9]?[0-9]?\", Set{Char}(), (2, 2)), 1), Lerche.TerminalDef(\"PW\", Lerche.PatternRE(\"PW[1-9]?[0-9]?\", Set{Char}(), (2, 2)), 1), Lerche.TerminalDef(\"WS\", Lerche.PatternRE(\"(?:[ \\t\\f\\r\\n])+\", Set{Char}(), (1, 1000)), 1)], Lerche.Rule[<start:  statement>, <statement:  sl sw pl pw>, <sl:  SL>, <sw:  SW>, <pl:  PL>, <pw:  PW>], [\"WS\"], Lerche.LexerConf(Lerche.TerminalDef[Lerche.TerminalDef(\"SL\", Lerche.PatternRE(\"SL[1-9]?[0-9]?\", Set{Char}(), (2, 2)), 1), Lerche.TerminalDef(\"SW\", Lerche.PatternRE(\"SW[1-9]?[0-9]?\", Set{Char}(), (2, 2)), 1), Lerche.TerminalDef(\"PL\", Lerche.PatternRE(\"PL[1-9]?[0-9]?\", Set{Char}(), (2, 2)), 1), Lerche.TerminalDef(\"PW\", Lerche.PatternRE(\"PW[1-9]?[0-9]?\", Set{Char}(), (2, 2)), 1), Lerche.TerminalDef(\"WS\", Lerche.PatternRE(\"(?:[ \\t\\f\\r\\n])+\", Set{Char}(), (1, 1000)), 1)], [\"WS\"], nothing, Dict{String, Function}(), \"\", false), Lerche.LALR_TraditionalLexer(Lerche.TraditionalLexer([\"WS\"], Set([\"WS\"]), Dict{String, Function}(), Lerche.TerminalDef[Lerche.TerminalDef(\"WS\", Lerche.PatternRE(\"(?:[ \\t\\f\\r\\n])+\", Set{Char}(), (1, 1000)), 1), Lerche.TerminalDef(\"PL\", Lerche.PatternRE(\"PL[1-9]?[0-9]?\", Set{Char}(), (2, 2)), 1), Lerche.TerminalDef(\"PW\", Lerche.PatternRE(\"PW[1-9]?[0-9]?\", Set{Char}(), (2, 2)), 1), Lerche.TerminalDef(\"SL\", Lerche.PatternRE(\"SL[1-9]?[0-9]?\", Set{Char}(), (2, 2)), 1), Lerche.TerminalDef(\"SW\", Lerche.PatternRE(\"SW[1-9]?[0-9]?\", Set{Char}(), (2, 2)), 1)], (r\"(?P<WS>\\A((?:[ \t\f\r\n])+))|(?P<PL>\\A(PL[1-9]?[0-9]?))|(?P<PW>\\A(PW[1-9]?[0-9]?))|(?P<SL>\\A(SL[1-9]?[0-9]?))|(?P<SW>\\A(SW[1-9]?[0-9]?))\", Dict(5 => \"PW\", 7 => \"SL\", 9 => \"SW\", 3 => \"PL\", 1 => \"WS\"))), Lerche.LexerConf(Lerche.TerminalDef[Lerche.TerminalDef(\"SL\", Lerche.PatternRE(\"SL[1-9]?[0-9]?\", Set{Char}(), (2, 2)), 1), Lerche.TerminalDef(\"SW\", Lerche.PatternRE(\"SW[1-9]?[0-9]?\", Set{Char}(), (2, 2)), 1), Lerche.TerminalDef(\"PL\", Lerche.PatternRE(\"PL[1-9]?[0-9]?\", Set{Char}(), (2, 2)), 1), Lerche.TerminalDef(\"PW\", Lerche.PatternRE(\"PW[1-9]?[0-9]?\", Set{Char}(), (2, 2)), 1), Lerche.TerminalDef(\"WS\", Lerche.PatternRE(\"(?:[ \\t\\f\\r\\n])+\", Set{Char}(), (1, 1000)), 1)], [\"WS\"], nothing, Dict{String, Function}(), \"\", false), nothing, Lerche.LALRParser(Lerche.ParseTable(Dict[Dict{String, Tuple{Symbol, Any}}(\"sw\" => (:shift, 6), \"SW\" => (:shift, 9)), Dict{String, Tuple{Symbol, Any}}(\"\\$END\" => (:reduce, <start:  statement>)), Dict{String, Tuple{Symbol, Any}}(), Dict{String, Tuple{Symbol, Any}}(\"start\" => (:shift, 3), \"sl\" => (:shift, 1), \"statement\" => (:shift, 2), \"SL\" => (:shift, 7)), Dict{String, Tuple{Symbol, Any}}(\"pw\" => (:shift, 8), \"PW\" => (:shift, 11)), Dict{String, Tuple{Symbol, Any}}(\"pl\" => (:shift, 5), \"PL\" => (:shift, 10)), Dict{String, Tuple{Symbol, Any}}(\"SW\" => (:reduce, <sl:  SL>)), Dict{String, Tuple{Symbol, Any}}(\"\\$END\" => (:reduce, <statement:  sl sw pl pw>)), Dict{String, Tuple{Symbol, Any}}(\"PL\" => (:reduce, <sw:  SW>)), Dict{String, Tuple{Symbol, Any}}(\"PW\" => (:reduce, <pl:  PL>)), Dict{String, Tuple{Symbol, Any}}(\"\\$END\" => (:reduce, <pw:  PW>))], Dict(\"start\" => 4), Dict(\"start\" => 3), Dict{Set{Lerche.RulePtr}, Int64}(Set([<sl : SL * >]) => 7, Set([<statement : sl sw pl * pw>, <pw :  * PW>]) => 5, Set([<pl : PL * >]) => 10, Set([<$root_start : start * >]) => 3, Set([<statement : sl sw pl pw * >]) => 8, Set([<statement : sl * sw pl pw>, <sw :  * SW>]) => 1, Set([<sw : SW * >]) => 9, Set([<pw : PW * >]) => 11, Set([<statement : sl sw * pl pw>, <pl :  * PL>]) => 6, Set([<start : statement * >]) => 2…)), Lerche.ParserConf(Lerche.Rule[<start:  statement>, <statement:  sl sw pl pw>, <sl:  SL>, <sw:  SW>, <pl:  PL>, <pw:  PW>], Dict{Lerche.Rule, Function}(<sw:  SW> => Lerche.var\"#16#17\"{typeof(Lerche.transformer_func), Tuple{Nothing, Val{:iris_symb}, Lerche.Meta}}(Lerche.transformer_func, (nothing, Val{:iris_symb}(), Lerche.Meta(#undef, 41, 11, 8, 5, 4, 20, true))), <start:  statement> => Lerche.var\"#73#74\"{Lerche.var\"#16#17\"{typeof(Lerche.transformer_func), Tuple{Nothing, Val{:start}, Lerche.Meta}}}(Lerche.var\"#16#17\"{typeof(Lerche.transformer_func), Tuple{Nothing, Val{:start}, Lerche.Meta}}(Lerche.transformer_func, (nothing, Val{:start}(), Lerche.Meta(#undef, 0, 1083396, 0, 1, 140259452084912, 1, true)))), <sl:  SL> => Lerche.var\"#16#17\"{typeof(Lerche.transformer_func), Tuple{Nothing, Val{:iris_symb}, Lerche.Meta}}(Lerche.transformer_func, (nothing, Val{:iris_symb}(), Lerche.Meta(#undef, 3, 563204, 3, 3, 140259273422768, 140259308587552, false))), <statement:  sl sw pl pw> => Lerche.var\"#16#17\"{typeof(Lerche.transformer_func), Tuple{Nothing, Val{:statement}, Lerche.Meta}}(Lerche.transformer_func, (nothing, Val{:statement}(), Lerche.Meta(#undef, 22, 1615876, 1, 1, 140259306961984, 140258278851152, false))), <pl:  PL> => Lerche.var\"#16#17\"{typeof(Lerche.transformer_func), Tuple{Nothing, Val{:iris_symb}, Lerche.Meta}}(Lerche.transformer_func, (nothing, Val{:iris_symb}(), Lerche.Meta(#undef, 0, 1083396, 0, 1, 140259422896560, 1, true))), <pw:  PW> => Lerche.var\"#16#17\"{typeof(Lerche.transformer_func), Tuple{Nothing, Val{:iris_symb}, Lerche.Meta}}(Lerche.transformer_func, (nothing, Val{:iris_symb}(), Lerche.Meta(#undef, 2, 3, 4, 3, 140259452658144, 140259452258248, false)))), [\"start\"]), Lerche._Parser(Lerche.ParseTable(Dict[Dict{String, Tuple{Symbol, Any}}(\"sw\" => (:shift, 6), \"SW\" => (:shift, 9)), Dict{String, Tuple{Symbol, Any}}(\"\\$END\" => (:reduce, <start:  statement>)), Dict{String, Tuple{Symbol, Any}}(), Dict{String, Tuple{Symbol, Any}}(\"start\" => (:shift, 3), \"sl\" => (:shift, 1), \"statement\" => (:shift, 2), \"SL\" => (:shift, 7)), Dict{String, Tuple{Symbol, Any}}(\"pw\" => (:shift, 8), \"PW\" => (:shift, 11)), Dict{String, Tuple{Symbol, Any}}(\"pl\" => (:shift, 5), \"PL\" => (:shift, 10)), Dict{String, Tuple{Symbol, Any}}(\"SW\" => (:reduce, <sl:  SL>)), Dict{String, Tuple{Symbol, Any}}(\"\\$END\" => (:reduce, <statement:  sl sw pl pw>)), Dict{String, Tuple{Symbol, Any}}(\"PL\" => (:reduce, <sw:  SW>)), Dict{String, Tuple{Symbol, Any}}(\"PW\" => (:reduce, <pl:  PL>)), Dict{String, Tuple{Symbol, Any}}(\"\\$END\" => (:reduce, <pw:  PW>))], Dict(\"start\" => 4), Dict(\"start\" => 3), Dict{Set{Lerche.RulePtr}, Int64}(Set([<sl : SL * >]) => 7, Set([<statement : sl sw pl * pw>, <pw :  * PW>]) => 5, Set([<pl : PL * >]) => 10, Set([<$root_start : start * >]) => 3, Set([<statement : sl sw pl pw * >]) => 8, Set([<statement : sl * sw pl pw>, <sw :  * SW>]) => 1, Set([<sw : SW * >]) => 9, Set([<pw : PW * >]) => 11, Set([<statement : sl sw * pl pw>, <pl :  * PL>]) => 6, Set([<start : statement * >]) => 2…)), Dict{Lerche.Rule, Function}(<sw:  SW> => Lerche.var\"#16#17\"{typeof(Lerche.transformer_func), Tuple{Nothing, Val{:iris_symb}, Lerche.Meta}}(Lerche.transformer_func, (nothing, Val{:iris_symb}(), Lerche.Meta(#undef, 41, 11, 8, 5, 4, 20, true))), <start:  statement> => Lerche.var\"#73#74\"{Lerche.var\"#16#17\"{typeof(Lerche.transformer_func), Tuple{Nothing, Val{:start}, Lerche.Meta}}}(Lerche.var\"#16#17\"{typeof(Lerche.transformer_func), Tuple{Nothing, Val{:start}, Lerche.Meta}}(Lerche.transformer_func, (nothing, Val{:start}(), Lerche.Meta(#undef, 0, 1083396, 0, 1, 140259452084912, 1, true)))), <sl:  SL> => Lerche.var\"#16#17\"{typeof(Lerche.transformer_func), Tuple{Nothing, Val{:iris_symb}, Lerche.Meta}}(Lerche.transformer_func, (nothing, Val{:iris_symb}(), Lerche.Meta(#undef, 3, 563204, 3, 3, 140259273422768, 140259308587552, false))), <statement:  sl sw pl pw> => Lerche.var\"#16#17\"{typeof(Lerche.transformer_func), Tuple{Nothing, Val{:statement}, Lerche.Meta}}(Lerche.transformer_func, (nothing, Val{:statement}(), Lerche.Meta(#undef, 22, 1615876, 1, 1, 140259306961984, 140258278851152, false))), <pl:  PL> => Lerche.var\"#16#17\"{typeof(Lerche.transformer_func), Tuple{Nothing, Val{:iris_symb}, Lerche.Meta}}(Lerche.transformer_func, (nothing, Val{:iris_symb}(), Lerche.Meta(#undef, 0, 1083396, 0, 1, 140259422896560, 1, true))), <pw:  PW> => Lerche.var\"#16#17\"{typeof(Lerche.transformer_func), Tuple{Nothing, Val{:iris_symb}, Lerche.Meta}}(Lerche.transformer_func, (nothing, Val{:iris_symb}(), Lerche.Meta(#undef, 2, 3, 4, 3, 140259452658144, 140259452258248, false)))), false), false), [\"start\"], Main.var\"##296\".GramARTTree()))"
     },
     "metadata": {},
     "execution_count": 4
    }
   ],
   "cell_type": "code",
   "source": [
    "# Create the Lark parser from the grammar, transformer, and additional settings\n",
    "iris_parser = Lark(\n",
    "    iris_grammar,\n",
    "    parser=\"lalr\",\n",
    "    lexer=\"standard\",\n",
    "    transformer=GramARTTree()\n",
    ")"
   ],
   "metadata": {},
   "execution_count": 4
  },
  {
   "cell_type": "markdown",
   "source": [
    "We can then set some sample text as the input statement:"
   ],
   "metadata": {}
  },
  {
   "outputs": [
    {
     "output_type": "execute_result",
     "data": {
      "text/plain": "\"SL1 SW3 PL4 PW8\""
     },
     "metadata": {},
     "execution_count": 5
    }
   ],
   "cell_type": "code",
   "source": [
    "text = raw\"SL1 SW3 PL4 PW8\""
   ],
   "metadata": {},
   "execution_count": 5
  },
  {
   "cell_type": "markdown",
   "source": [
    "And we parse the statement, seeing that we indeed get a vector of of `OAR.GSymbol`s:"
   ],
   "metadata": {}
  },
  {
   "outputs": [
    {
     "output_type": "execute_result",
     "data": {
      "text/plain": "4-element Vector{Any}:\n OAR.GSymbol{String}(\"SL1\", true)\n OAR.GSymbol{String}(\"SW3\", true)\n OAR.GSymbol{String}(\"PL4\", true)\n OAR.GSymbol{String}(\"PW8\", true)"
     },
     "metadata": {},
     "execution_count": 6
    }
   ],
   "cell_type": "code",
   "source": [
    "k = Lerche.parse(iris_parser, text)"
   ],
   "metadata": {},
   "execution_count": 6
  },
  {
   "cell_type": "markdown",
   "source": [
    "---\n",
    "\n",
    "*This notebook was generated using [Literate.jl](https://github.com/fredrikekre/Literate.jl).*"
   ],
   "metadata": {}
  }
 ],
 "nbformat_minor": 3,
 "metadata": {
  "language_info": {
   "file_extension": ".jl",
   "mimetype": "application/julia",
   "name": "julia",
   "version": "1.9.1"
  },
  "kernelspec": {
   "name": "julia-1.9",
   "display_name": "Julia 1.9.1",
   "language": "julia"
  }
 },
 "nbformat": 4
}
