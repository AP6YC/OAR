{
 "cells": [
  {
   "cell_type": "markdown",
   "source": [
    "## Overview"
   ],
   "metadata": {}
  },
  {
   "cell_type": "markdown",
   "source": [
    "This example shows how to run the `Julia` experiments in the `OAR` project.\n",
    "Experiments in the `Julia` component of the project are implemented as `Julia` scripts that load the `OAR` module as a source library and subsequently implement a particular experiment."
   ],
   "metadata": {}
  },
  {
   "cell_type": "markdown",
   "source": [
    "These experiments are enumerated under the `scripts/` folder with a number and shorthand name for the experiment.\n",
    "READMEs populate this directory to provide context, explanation, and instructions for each experiment."
   ],
   "metadata": {}
  },
  {
   "cell_type": "markdown",
   "source": [
    "You may run one of these experiments by initiating a Julia REPL and \"including\" the script (which simply inserts the contents of the script directly into the session and runs it).\n",
    "This example points to the relative location of an experiment with respect to this example file, so you may need to adjust how you reference the experiment:"
   ],
   "metadata": {}
  },
  {
   "outputs": [
    {
     "name": "stdout",
     "output_type": "stream",
     "text": [
      "[ Info: GSymbol{String}[GSymbol{String}(\"SL7\", true), GSymbol{String}(\"SW6\", true), GSymbol{String}(\"PL4\", true), GSymbol{String}(\"PW5\", true)]\n"
     ]
    }
   ],
   "cell_type": "code",
   "source": [
    "# Include/run an experiment that generates a random statement from a discretized Iris dataset grammar\n",
    "include(joinpath(\"..\", \"..\", \"..\", \"..\", \"scripts\", \"0_init\", \"ebnf.jl\"))"
   ],
   "metadata": {},
   "execution_count": 1
  },
  {
   "cell_type": "markdown",
   "source": [
    "The above script very importantly includes the preamble"
   ],
   "metadata": {}
  },
  {
   "outputs": [],
   "cell_type": "code",
   "source": [
    "# using DrWatson\n",
    "# @quickactivate :OAR"
   ],
   "metadata": {},
   "execution_count": 2
  },
  {
   "cell_type": "markdown",
   "source": [
    "which makes sure that the correct context is set up and that the OAR module containing experiment driver code is precompiled.\n",
    "This example will now reactivate the `docs` package because running the above example activates the top-level `OAR` package."
   ],
   "metadata": {}
  },
  {
   "outputs": [
    {
     "name": "stdout",
     "output_type": "stream",
     "text": [
      "  Activating project at `~/work/OAR/OAR/docs`\n"
     ]
    }
   ],
   "cell_type": "code",
   "source": [
    "# Reactivate the documentation for future examples\n",
    "using Pkg\n",
    "Pkg.activate(joinpath(\"..\", \"..\", \"..\", \"..\", \"docs\"))"
   ],
   "metadata": {},
   "execution_count": 3
  },
  {
   "cell_type": "markdown",
   "source": [
    "---\n",
    "\n",
    "*This notebook was generated using [Literate.jl](https://github.com/fredrikekre/Literate.jl).*"
   ],
   "metadata": {}
  }
 ],
 "nbformat_minor": 3,
 "metadata": {
  "language_info": {
   "file_extension": ".jl",
   "mimetype": "application/julia",
   "name": "julia",
   "version": "1.9.3"
  },
  "kernelspec": {
   "name": "julia-1.9",
   "display_name": "Julia 1.9.3",
   "language": "julia"
  }
 },
 "nbformat": 4
}
