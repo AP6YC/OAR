{
 "cells": [
  {
   "cell_type": "markdown",
   "source": [
    "## Overview"
   ],
   "metadata": {}
  },
  {
   "cell_type": "markdown",
   "source": [
    "This script demonstrates the usage of a GramART module for analyzing biomedical data knowledge graphs.\n",
    "Though the `OAR` project contains multiple such knowledge graphs, the Charcot-Marie-Tooth (CMT) dataset is used as an example here with the procedure remaining the same with other datasets."
   ],
   "metadata": {}
  },
  {
   "cell_type": "markdown",
   "source": [
    "## Setup"
   ],
   "metadata": {}
  },
  {
   "cell_type": "markdown",
   "source": [
    "First, we load some dependencies:"
   ],
   "metadata": {}
  },
  {
   "outputs": [],
   "cell_type": "code",
   "source": [
    "# Import the OAR project module\n",
    "using OAR"
   ],
   "metadata": {},
   "execution_count": 1
  },
  {
   "cell_type": "markdown",
   "source": [
    "Next, we must should point to the location of the dataset containing the prepro"
   ],
   "metadata": {}
  },
  {
   "outputs": [
    {
     "output_type": "execute_result",
     "data": {
      "text/plain": "\"../assets/edge_attributes_lerche.txt\""
     },
     "metadata": {},
     "execution_count": 2
    }
   ],
   "cell_type": "code",
   "source": [
    "# Location of the edge attributes file, formatted for Lerch parsing\n",
    "edge_file = joinpath(\"..\", \"assets\", \"edge_attributes_lerche.txt\")"
   ],
   "metadata": {},
   "execution_count": 2
  },
  {
   "cell_type": "markdown",
   "source": [
    "Load the CMT statements"
   ],
   "metadata": {}
  },
  {
   "outputs": [
    {
     "output_type": "execute_result",
     "data": {
      "text/plain": "2328-element Vector{Vector{OAR.GSymbol{String}}}:\n [OAR.GSymbol{String}(\"Charcot_Marie_Tooth_disease_axonal_type_2A2A\", true), OAR.GSymbol{String}(\"is_a\", true), OAR.GSymbol{String}(\"disease\", true)]\n [OAR.GSymbol{String}(\"Charcot_Marie_Tooth_disease_axonal_type_2A2A\", true), OAR.GSymbol{String}(\"is_caused_by\", true), OAR.GSymbol{String}(\"MFN2\", true)]\n [OAR.GSymbol{String}(\"Charcot_Marie_Tooth_disease_axonal_type_2A2A\", true), OAR.GSymbol{String}(\"inherited_by\", true), OAR.GSymbol{String}(\"AD\", true)]\n [OAR.GSymbol{String}(\"Charcot_Marie_Tooth_disease_axonal_type_2A2A\", true), OAR.GSymbol{String}(\"has_a_phenotype\", true), OAR.GSymbol{String}(\"Pain\", true)]\n [OAR.GSymbol{String}(\"Charcot_Marie_Tooth_disease_axonal_type_2A2A\", true), OAR.GSymbol{String}(\"has_a_phenotype\", true), OAR.GSymbol{String}(\"Mental_deterioration\", true)]\n [OAR.GSymbol{String}(\"1p36.22\", true), OAR.GSymbol{String}(\"is_a\", true), OAR.GSymbol{String}(\"gene_location\", true)]\n [OAR.GSymbol{String}(\"MFN2\", true), OAR.GSymbol{String}(\"has_gene_location\", true), OAR.GSymbol{String}(\"1p36.22\", true)]\n [OAR.GSymbol{String}(\"MFN2\", true), OAR.GSymbol{String}(\"is_a\", true), OAR.GSymbol{String}(\"gene\", true)]\n [OAR.GSymbol{String}(\"MFN2\", true), OAR.GSymbol{String}(\"is_on_chromosome\", true), OAR.GSymbol{String}(\"1\", true)]\n [OAR.GSymbol{String}(\"MFN2\", true), OAR.GSymbol{String}(\"codes_for\", true), OAR.GSymbol{String}(\"Mitofusin_2\", true)]\n ⋮\n [OAR.GSymbol{String}(\"Tyrosyl_tRNA_synthetase_1\", true), OAR.GSymbol{String}(\"has_disease_involvement\", true), OAR.GSymbol{String}(\"Neurodegeneration\", true)]\n [OAR.GSymbol{String}(\"Tyrosyl_tRNA_synthetase_1\", true), OAR.GSymbol{String}(\"has_disease_involvement\", true), OAR.GSymbol{String}(\"Neuropathy\", true)]\n [OAR.GSymbol{String}(\"Tyrosyl_tRNA_synthetase_1\", true), OAR.GSymbol{String}(\"has_a_domain\", true), OAR.GSymbol{String}(\"EGFCA\", true)]\n [OAR.GSymbol{String}(\"Tyrosyl_tRNA_synthetase_1\", true), OAR.GSymbol{String}(\"has_a_domain\", true), OAR.GSymbol{String}(\"EGFL\", true)]\n [OAR.GSymbol{String}(\"Tyrosyl_tRNA_synthetase_1\", true), OAR.GSymbol{String}(\"has_a_motif\", true), OAR.GSymbol{String}(\"SP\", true)]\n [OAR.GSymbol{String}(\"Tyrosyl_tRNA_synthetase_1\", true), OAR.GSymbol{String}(\"has_a_motif\", true), OAR.GSymbol{String}(\"RGD\", true)]\n [OAR.GSymbol{String}(\"Tyrosyl_tRNA_synthetase_1\", true), OAR.GSymbol{String}(\"is_located_at\", true), OAR.GSymbol{String}(\"extracellular\", true)]\n [OAR.GSymbol{String}(\"RGD\", true), OAR.GSymbol{String}(\"is_a\", true), OAR.GSymbol{String}(\"protein_motif\", true)]\n [OAR.GSymbol{String}(\"extracellular\", true), OAR.GSymbol{String}(\"is_a\", true), OAR.GSymbol{String}(\"protein_location\", true)]"
     },
     "metadata": {},
     "execution_count": 3
    }
   ],
   "cell_type": "code",
   "source": [
    "statements = OAR.get_cmt_statements(edge_file)"
   ],
   "metadata": {},
   "execution_count": 3
  },
  {
   "cell_type": "markdown",
   "source": [
    "Generate a simple subject-predicate-object grammar from the statements"
   ],
   "metadata": {}
  },
  {
   "outputs": [
    {
     "output_type": "execute_result",
     "data": {
      "text/plain": "OAR.CFG{String}(N:3, S:3, P:3, T:788)"
     },
     "metadata": {},
     "execution_count": 4
    }
   ],
   "cell_type": "code",
   "source": [
    "grammar = OAR.SPOCFG(statements)"
   ],
   "metadata": {},
   "execution_count": 4
  },
  {
   "cell_type": "markdown",
   "source": [
    "Initialize the GramART module"
   ],
   "metadata": {}
  },
  {
   "outputs": [
    {
     "output_type": "execute_result",
     "data": {
      "text/plain": "OAR.GramART(ProtoNode[], OAR.CFG{String}(N:3, S:3, P:3, T:788), OAR.opts_GramART\n  rho: Float64 0.1\n  terminated: Bool false\n)"
     },
     "metadata": {},
     "execution_count": 5
    }
   ],
   "cell_type": "code",
   "source": [
    "gramart = OAR.GramART(\n",
    "    grammar,\n",
    "    rho=0.1,\n",
    "    terminated=false,\n",
    ")"
   ],
   "metadata": {},
   "execution_count": 5
  },
  {
   "cell_type": "markdown",
   "source": [
    "Process the statements"
   ],
   "metadata": {}
  },
  {
   "outputs": [],
   "cell_type": "code",
   "source": [
    "for statement in statements\n",
    "    OAR.train!(gramart, statement)\n",
    "end"
   ],
   "metadata": {},
   "execution_count": 6
  },
  {
   "cell_type": "markdown",
   "source": [
    "---\n",
    "\n",
    "*This notebook was generated using [Literate.jl](https://github.com/fredrikekre/Literate.jl).*"
   ],
   "metadata": {}
  }
 ],
 "nbformat_minor": 3,
 "metadata": {
  "language_info": {
   "file_extension": ".jl",
   "mimetype": "application/julia",
   "name": "julia",
   "version": "1.9.2"
  },
  "kernelspec": {
   "name": "julia-1.9",
   "display_name": "Julia 1.9.2",
   "language": "julia"
  }
 },
 "nbformat": 4
}
