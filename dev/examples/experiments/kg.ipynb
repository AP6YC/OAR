{
 "cells": [
  {
   "cell_type": "markdown",
   "source": [
    "## Overview"
   ],
   "metadata": {}
  },
  {
   "cell_type": "markdown",
   "source": [
    "This script demonstrates the usage of a GramART module for analyzing biomedical data knowledge graphs.\n",
    "Though the `OAR` project contains multiple such knowledge graphs, the Charcot-Marie-Tooth (CMT) dataset is used as an example here with the procedure remaining the same with other datasets."
   ],
   "metadata": {}
  },
  {
   "cell_type": "markdown",
   "source": [
    "## Setup"
   ],
   "metadata": {}
  },
  {
   "cell_type": "markdown",
   "source": [
    "First, we load some dependencies:"
   ],
   "metadata": {}
  },
  {
   "outputs": [],
   "cell_type": "code",
   "source": [
    "# Import the OAR project module\n",
    "using OAR"
   ],
   "metadata": {},
   "execution_count": 1
  },
  {
   "cell_type": "markdown",
   "source": [
    "Next, we must should point to the location of the dataset containing the preprocessed knowledge graph statements"
   ],
   "metadata": {}
  },
  {
   "outputs": [
    {
     "output_type": "execute_result",
     "data": {
      "text/plain": "\"../assets/edge_attributes_lerche.txt\""
     },
     "metadata": {},
     "execution_count": 2
    }
   ],
   "cell_type": "code",
   "source": [
    "# Location of the edge attributes file, formatted for Lerch parsing\n",
    "edge_file = joinpath(\"..\", \"assets\", \"edge_attributes_lerche.txt\")"
   ],
   "metadata": {},
   "execution_count": 2
  },
  {
   "cell_type": "markdown",
   "source": [
    "Load the KG statements"
   ],
   "metadata": {}
  },
  {
   "outputs": [
    {
     "output_type": "execute_result",
     "data": {
      "text/plain": "2328-element Vector{Vector{GSymbol{String}}}:\n [GSymbol{String}(\"Charcot_Marie_Tooth_disease_axonal_type_2A2A\", true), GSymbol{String}(\"is_a\", true), GSymbol{String}(\"disease\", true)]\n [GSymbol{String}(\"Charcot_Marie_Tooth_disease_axonal_type_2A2A\", true), GSymbol{String}(\"is_caused_by\", true), GSymbol{String}(\"MFN2\", true)]\n [GSymbol{String}(\"Charcot_Marie_Tooth_disease_axonal_type_2A2A\", true), GSymbol{String}(\"inherited_by\", true), GSymbol{String}(\"AD\", true)]\n [GSymbol{String}(\"Charcot_Marie_Tooth_disease_axonal_type_2A2A\", true), GSymbol{String}(\"has_a_phenotype\", true), GSymbol{String}(\"Pain\", true)]\n [GSymbol{String}(\"Charcot_Marie_Tooth_disease_axonal_type_2A2A\", true), GSymbol{String}(\"has_a_phenotype\", true), GSymbol{String}(\"Mental_deterioration\", true)]\n [GSymbol{String}(\"1p36.22\", true), GSymbol{String}(\"is_a\", true), GSymbol{String}(\"gene_location\", true)]\n [GSymbol{String}(\"MFN2\", true), GSymbol{String}(\"has_gene_location\", true), GSymbol{String}(\"1p36.22\", true)]\n [GSymbol{String}(\"MFN2\", true), GSymbol{String}(\"is_a\", true), GSymbol{String}(\"gene\", true)]\n [GSymbol{String}(\"MFN2\", true), GSymbol{String}(\"is_on_chromosome\", true), GSymbol{String}(\"1\", true)]\n [GSymbol{String}(\"MFN2\", true), GSymbol{String}(\"codes_for\", true), GSymbol{String}(\"Mitofusin_2\", true)]\n ⋮\n [GSymbol{String}(\"Tyrosyl_tRNA_synthetase_1\", true), GSymbol{String}(\"has_disease_involvement\", true), GSymbol{String}(\"Neurodegeneration\", true)]\n [GSymbol{String}(\"Tyrosyl_tRNA_synthetase_1\", true), GSymbol{String}(\"has_disease_involvement\", true), GSymbol{String}(\"Neuropathy\", true)]\n [GSymbol{String}(\"Tyrosyl_tRNA_synthetase_1\", true), GSymbol{String}(\"has_a_domain\", true), GSymbol{String}(\"EGFCA\", true)]\n [GSymbol{String}(\"Tyrosyl_tRNA_synthetase_1\", true), GSymbol{String}(\"has_a_domain\", true), GSymbol{String}(\"EGFL\", true)]\n [GSymbol{String}(\"Tyrosyl_tRNA_synthetase_1\", true), GSymbol{String}(\"has_a_motif\", true), GSymbol{String}(\"SP\", true)]\n [GSymbol{String}(\"Tyrosyl_tRNA_synthetase_1\", true), GSymbol{String}(\"has_a_motif\", true), GSymbol{String}(\"RGD\", true)]\n [GSymbol{String}(\"Tyrosyl_tRNA_synthetase_1\", true), GSymbol{String}(\"is_located_at\", true), GSymbol{String}(\"extracellular\", true)]\n [GSymbol{String}(\"RGD\", true), GSymbol{String}(\"is_a\", true), GSymbol{String}(\"protein_motif\", true)]\n [GSymbol{String}(\"extracellular\", true), GSymbol{String}(\"is_a\", true), GSymbol{String}(\"protein_location\", true)]"
     },
     "metadata": {},
     "execution_count": 3
    }
   ],
   "cell_type": "code",
   "source": [
    "statements = OAR.get_kg_statements(edge_file)"
   ],
   "metadata": {},
   "execution_count": 3
  },
  {
   "cell_type": "markdown",
   "source": [
    "Generate a simple subject-predicate-object grammar from the statements"
   ],
   "metadata": {}
  },
  {
   "outputs": [
    {
     "output_type": "execute_result",
     "data": {
      "text/plain": "OAR.CFG{String}(N:3, S:3, P:3, T:788)"
     },
     "metadata": {},
     "execution_count": 4
    }
   ],
   "cell_type": "code",
   "source": [
    "grammar = OAR.SPOCFG(statements)"
   ],
   "metadata": {},
   "execution_count": 4
  },
  {
   "cell_type": "markdown",
   "source": [
    "Initialize the GramART module"
   ],
   "metadata": {}
  },
  {
   "outputs": [
    {
     "output_type": "execute_result",
     "data": {
      "text/plain": "GramART(ProtoNode[], OAR.CFG{String}(N:3, S:3, P:3, T:788), OAR.opts_GramART\n  rho: Float64 0.1\n  terminated: Bool false\n)"
     },
     "metadata": {},
     "execution_count": 5
    }
   ],
   "cell_type": "code",
   "source": [
    "gramart = OAR.GramART(\n",
    "    grammar,\n",
    "    rho=0.1,\n",
    "    terminated=false,\n",
    ")"
   ],
   "metadata": {},
   "execution_count": 5
  },
  {
   "cell_type": "markdown",
   "source": [
    "Process the statements"
   ],
   "metadata": {}
  },
  {
   "outputs": [],
   "cell_type": "code",
   "source": [
    "for statement in statements\n",
    "    OAR.train!(gramart, statement)\n",
    "end"
   ],
   "metadata": {},
   "execution_count": 6
  },
  {
   "cell_type": "markdown",
   "source": [
    "---\n",
    "\n",
    "*This notebook was generated using [Literate.jl](https://github.com/fredrikekre/Literate.jl).*"
   ],
   "metadata": {}
  }
 ],
 "nbformat_minor": 3,
 "metadata": {
  "language_info": {
   "file_extension": ".jl",
   "mimetype": "application/julia",
   "name": "julia",
   "version": "1.9.2"
  },
  "kernelspec": {
   "name": "julia-1.9",
   "display_name": "Julia 1.9.2",
   "language": "julia"
  }
 },
 "nbformat": 4
}
