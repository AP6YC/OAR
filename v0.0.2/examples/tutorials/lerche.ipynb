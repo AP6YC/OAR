{
 "cells": [
  {
   "cell_type": "markdown",
   "source": [
    "## Overview"
   ],
   "metadata": {}
  },
  {
   "cell_type": "markdown",
   "source": [
    "This example shows how the the [`Lerche.jl`](https://jamesrhester.github.io/Lerche.jl/dev/) parsing library works, which provides the necessary machinery to define `lark`-like grammars and parse statements into arbitrary Julia structures to interface with the GramART tools in this project.\n",
    "These tools are demonstrated on the how to parse approximate symbolic statements of the real-valued Iris dataset back into a tree that can be used in GramART."
   ],
   "metadata": {}
  },
  {
   "cell_type": "markdown",
   "source": [
    "## Setup"
   ],
   "metadata": {}
  },
  {
   "cell_type": "markdown",
   "source": [
    "First, we load some dependencies:"
   ],
   "metadata": {}
  },
  {
   "outputs": [],
   "cell_type": "code",
   "source": [
    "using OAR       # The OAR project module\n",
    "using Lerche    # Parsing library"
   ],
   "metadata": {},
   "execution_count": 1
  },
  {
   "cell_type": "markdown",
   "source": [
    "Next, we declare the rules of the symbolic Iris grammar using the syntax and format provided by the `Leche` library and the `lark` Python library that it is inspired by."
   ],
   "metadata": {}
  },
  {
   "outputs": [
    {
     "output_type": "execute_result",
     "data": {
      "text/plain": "\"    ?start: statement\\n\\n    statement: sl sw pl pw\\n\\n    sl : SL -> iris_symb\\n    sw : SW -> iris_symb\\n    pl : PL -> iris_symb\\n    pw : PW -> iris_symb\\n\\n    SL : /SL[1-9]?[0-9]?/\\n    SW : /SW[1-9]?[0-9]?/\\n    PL : /PL[1-9]?[0-9]?/\\n    PW : /PW[1-9]?[0-9]?/\\n\\n    %import common.WS\\n    %ignore WS\\n\""
     },
     "metadata": {},
     "execution_count": 2
    }
   ],
   "cell_type": "code",
   "source": [
    "# Statements in this grammar are simply four nonterminal positions with four bins of terminals.\n",
    "iris_grammar = raw\"\"\"\n",
    "    ?start: statement\n",
    "\n",
    "    statement: sl sw pl pw\n",
    "\n",
    "    sl : SL -> iris_symb\n",
    "    sw : SW -> iris_symb\n",
    "    pl : PL -> iris_symb\n",
    "    pw : PW -> iris_symb\n",
    "\n",
    "    SL : /SL[1-9]?[0-9]?/\n",
    "    SW : /SW[1-9]?[0-9]?/\n",
    "    PL : /PL[1-9]?[0-9]?/\n",
    "    PW : /PW[1-9]?[0-9]?/\n",
    "\n",
    "    %import common.WS\n",
    "    %ignore WS\n",
    "\"\"\""
   ],
   "metadata": {},
   "execution_count": 2
  },
  {
   "cell_type": "markdown",
   "source": [
    "Next, we set up the parsing transformer and its rules for transforming the symbols that the parser encounters into Julia datatypes."
   ],
   "metadata": {}
  },
  {
   "outputs": [],
   "cell_type": "code",
   "source": [
    "# The grammar tree subtypes from a Lerche Transformer\n",
    "struct GramARTTree <: Transformer end\n",
    "\n",
    "# The rules turn the terminals into `OAR` grammar symbols and statements into vectors\n",
    "@rule iris_symb(t::GramARTTree, p) = OAR.GSymbol{String}(p[1], true)\n",
    "@rule statement(t::GramARTTree, p) = Vector(p)"
   ],
   "metadata": {},
   "execution_count": 3
  },
  {
   "cell_type": "markdown",
   "source": [
    "Finally, we create the parser from these rules:"
   ],
   "metadata": {}
  },
  {
   "outputs": [],
   "cell_type": "code",
   "source": [
    "# Create the Lark parser from the grammar, transformer, and additional settings\n",
    "iris_parser = Lark(\n",
    "    iris_grammar,\n",
    "    parser=\"lalr\",\n",
    "    lexer=\"standard\",\n",
    "    transformer=GramARTTree()\n",
    ");"
   ],
   "metadata": {},
   "execution_count": 4
  },
  {
   "cell_type": "markdown",
   "source": [
    "We can then set some sample text as the input statement:"
   ],
   "metadata": {}
  },
  {
   "outputs": [
    {
     "output_type": "execute_result",
     "data": {
      "text/plain": "\"SL1 SW3 PL4 PW8\""
     },
     "metadata": {},
     "execution_count": 5
    }
   ],
   "cell_type": "code",
   "source": [
    "text = raw\"SL1 SW3 PL4 PW8\""
   ],
   "metadata": {},
   "execution_count": 5
  },
  {
   "cell_type": "markdown",
   "source": [
    "And we parse the statement, seeing that we indeed get a vector of of `OAR.GSymbol`s:"
   ],
   "metadata": {}
  },
  {
   "outputs": [
    {
     "output_type": "execute_result",
     "data": {
      "text/plain": "4-element Vector{Any}:\n GSymbol{String}(\"SL1\", true)\n GSymbol{String}(\"SW3\", true)\n GSymbol{String}(\"PL4\", true)\n GSymbol{String}(\"PW8\", true)"
     },
     "metadata": {},
     "execution_count": 6
    }
   ],
   "cell_type": "code",
   "source": [
    "k = Lerche.parse(iris_parser, text)"
   ],
   "metadata": {},
   "execution_count": 6
  },
  {
   "cell_type": "markdown",
   "source": [
    "---\n",
    "\n",
    "*This notebook was generated using [Literate.jl](https://github.com/fredrikekre/Literate.jl).*"
   ],
   "metadata": {}
  }
 ],
 "nbformat_minor": 3,
 "metadata": {
  "language_info": {
   "file_extension": ".jl",
   "mimetype": "application/julia",
   "name": "julia",
   "version": "1.9.3"
  },
  "kernelspec": {
   "name": "julia-1.9",
   "display_name": "Julia 1.9.3",
   "language": "julia"
  }
 },
 "nbformat": 4
}
